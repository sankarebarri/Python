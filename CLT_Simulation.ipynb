{
 "cells": [
  {
   "cell_type": "code",
   "execution_count": 1,
   "id": "2998e6c6",
   "metadata": {},
   "outputs": [],
   "source": [
    "import matplotlib.pyplot as plt\n",
    "import numpy as np"
   ]
  },
  {
   "cell_type": "code",
   "execution_count": 2,
   "id": "8491edb3",
   "metadata": {},
   "outputs": [],
   "source": [
    "import random\n",
    "\n",
    "def central_limit_theorem(pop, n):\n",
    "    '''\n",
    "    Parameters\n",
    "    ----------\n",
    "    pop : List of population\n",
    "    n : Sample size\n",
    "\n",
    "    Returns: The average of the sample\n",
    "    '''\n",
    "    sample = []\n",
    "    for i in range(n):\n",
    "        sample.append(random.choice(pop))\n",
    "\n",
    "    return np.mean(sample)\n"
   ]
  },
  {
   "cell_type": "code",
   "execution_count": 3,
   "id": "dd24b14e",
   "metadata": {},
   "outputs": [
    {
     "data": {
      "text/plain": [
       "3.25"
      ]
     },
     "execution_count": 3,
     "metadata": {},
     "output_type": "execute_result"
    }
   ],
   "source": [
    "central_limit_theorem([1,2,3,4,5,6], 4)"
   ]
  },
  {
   "cell_type": "code",
   "execution_count": 32,
   "id": "51da349b",
   "metadata": {},
   "outputs": [],
   "source": [
    "sample_distri = []\n",
    "for i in range(10000):\n",
    "    f =central_limit_theorem([1,2,3,4,5,6], 6)\n",
    "    sample_distri.append(f)\n",
    "#print(sample_distri)"
   ]
  },
  {
   "cell_type": "code",
   "execution_count": 33,
   "id": "e4eca788",
   "metadata": {},
   "outputs": [],
   "source": [
    "sample_count = {}\n",
    "for i in sample_distri:\n",
    "    sample_count[i] = sample_distri.count(i)\n",
    "#print(sample_count)"
   ]
  },
  {
   "cell_type": "code",
   "execution_count": 34,
   "id": "6195bcb8",
   "metadata": {},
   "outputs": [],
   "source": [
    "sample_mean = list(sample_count.keys())\n",
    "mean_count = list(sample_count.values())"
   ]
  },
  {
   "cell_type": "code",
   "execution_count": 35,
   "id": "8f128b23",
   "metadata": {},
   "outputs": [
    {
     "data": {
      "text/plain": [
       "<BarContainer object of 29 artists>"
      ]
     },
     "execution_count": 35,
     "metadata": {},
     "output_type": "execute_result"
    },
    {
     "data": {
      "image/png": "[encoded data removed]",
      "text/plain": [
       "<Figure size 432x288 with 1 Axes>"
      ]
     },
     "metadata": {
      "needs_background": "light"
     },
     "output_type": "display_data"
    }
   ],
   "source": [
    "plt.bar(sample_mean, mean_count, width=0.2)"
   ]
  },
  {
   "cell_type": "code",
   "execution_count": null,
   "id": "a548dd5e",
   "metadata": {},
   "outputs": [],
   "source": []
  }
 ],
 "metadata": {
  "kernelspec": {
   "display_name": "Python 3 (ipykernel)",
   "language": "python",
   "name": "python3"
  },
  "language_info": {
   "codemirror_mode": {
    "name": "ipython",
    "version": 3
   },
   "file_extension": ".py",
   "mimetype": "text/x-python",
   "name": "python",
   "nbconvert_exporter": "python",
   "pygments_lexer": "ipython3",
   "version": "3.9.7"
  }
 },
 "nbformat": 4,
 "nbformat_minor": 5
}
