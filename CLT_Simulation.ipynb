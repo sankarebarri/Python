{
 "cells": [
  {
   "cell_type": "code",
   "execution_count": 2,
   "id": "3239cccd",
   "metadata": {},
   "outputs": [],
   "source": [
    "import matplotlib.pyplot as plt\n",
    "import numpy as np"
   ]
  },
  {
   "cell_type": "code",
   "execution_count": 3,
   "id": "3a498c5c",
   "metadata": {},
   "outputs": [],
   "source": [
    "import random\n",
    "\n",
    "def central_limit_theorem(pop, n):\n",
    "    '''\n",
    "    Parameters\n",
    "    ----------\n",
    "    pop : List of population\n",
    "    n : Sample size\n",
    "\n",
    "    Returns: The average of the sample\n",
    "    '''\n",
    "    sample = []\n",
    "    for i in range(n):\n",
    "        sample.append(random.choice(pop))\n",
    "\n",
    "    return np.mean(sample)\n"
   ]
  },
  {
   "cell_type": "code",
   "execution_count": 4,
   "id": "aa56d939",
   "metadata": {},
   "outputs": [
    {
     "data": {
      "text/plain": [
       "1.25"
      ]
     },
     "execution_count": 4,
     "metadata": {},
     "output_type": "execute_result"
    }
   ],
   "source": [
    "central_limit_theorem([1,2,3,4,5,6], 4)"
   ]
  },
  {
   "cell_type": "code",
   "execution_count": 54,
   "id": "fd054977",
   "metadata": {},
   "outputs": [],
   "source": [
    "sample_distri = []\n",
    "for i in range(1000):\n",
    "    f =central_limit_theorem([1,2,3,4,5,6], 6)\n",
    "    sample_distri.append(f)\n",
    "#print(sample_distri)"
   ]
  },
  {
   "cell_type": "code",
   "execution_count": 55,
   "id": "0606fba4",
   "metadata": {},
   "outputs": [
    {
     "name": "stdout",
     "output_type": "stream",
     "text": [
      "{4.333333333333333: 55, 3.5: 76, 3.6666666666666665: 93, 3.1666666666666665: 94, 3.0: 69, 2.8333333333333335: 67, 4.166666666666667: 63, 2.6666666666666665: 34, 4.0: 68, 4.833333333333333: 11, 2.5: 36, 3.3333333333333335: 96, 4.666666666666667: 28, 3.8333333333333335: 99, 4.5: 34, 2.0: 11, 5.166666666666667: 5, 2.3333333333333335: 22, 2.1666666666666665: 13, 1.6666666666666667: 5, 5.0: 12, 1.8333333333333333: 4, 5.666666666666667: 1, 5.333333333333333: 2, 1.3333333333333333: 1, 1.5: 1}\n"
     ]
    }
   ],
   "source": [
    "sample_count = {}\n",
    "for i in sample_distri:\n",
    "    sample_count[i] = sample_distri.count(i)\n",
    "print(sample_count)"
   ]
  },
  {
   "cell_type": "code",
   "execution_count": 56,
   "id": "fb3981df",
   "metadata": {},
   "outputs": [],
   "source": [
    "sample_mean = list(sample_count.keys())\n",
    "mean_count = list(sample_count.values())"
   ]
  },
  {
   "cell_type": "code",
   "execution_count": 57,
   "id": "8cab3fff",
   "metadata": {},
   "outputs": [
    {
     "data": {
      "text/plain": [
       "<BarContainer object of 26 artists>"
      ]
     },
     "execution_count": 57,
     "metadata": {},
     "output_type": "execute_result"
    },
    {
     "data": {
      "image/png": "[encoded data removed]",
      "text/plain": [
       "<Figure size 432x288 with 1 Axes>"
      ]
     },
     "metadata": {
      "needs_background": "light"
     },
     "output_type": "display_data"
    }
   ],
   "source": [
    "plt.bar(sample_mean, mean_count, width=0.2)"
   ]
  },
  {
   "cell_type": "code",
   "execution_count": 30,
   "id": "77f4f8bb",
   "metadata": {},
   "outputs": [
    {
     "name": "stdout",
     "output_type": "stream",
     "text": [
      "a\n",
      "b\n",
      "c\n"
     ]
    }
   ],
   "source": [
    "n_d = {}\n",
    "for k, v in d.items():\n",
    "    print(v)"
   ]
  },
  {
   "cell_type": "code",
   "execution_count": null,
   "id": "06cdbd8b",
   "metadata": {},
   "outputs": [],
   "source": []
  }
 ],
 "metadata": {
  "kernelspec": {
   "display_name": "Python 3 (ipykernel)",
   "language": "python",
   "name": "python3"
  },
  "language_info": {
   "codemirror_mode": {
    "name": "ipython",
    "version": 3
   },
   "file_extension": ".py",
   "mimetype": "text/x-python",
   "name": "python",
   "nbconvert_exporter": "python",
   "pygments_lexer": "ipython3",
   "version": "3.9.7"
  }
 },
 "nbformat": 4,
 "nbformat_minor": 5
}
